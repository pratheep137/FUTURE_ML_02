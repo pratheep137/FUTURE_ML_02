{
 "cells": [
  {
   "cell_type": "code",
   "execution_count": null,
   "metadata": {},
   "outputs": [],
   "source": [
    "import pandas as pd\n",
    "import seaborn as sns\n",
    "import matplotlib.pyplot as plt\n",
    "\n",
    "df = pd.read_csv('../data/customer_data.csv')\n",
    "print(df.head())\n",
    "print(df.info())\n",
    "print(df['churn'].value_counts())\n",
    "\n",
    "sns.countplot(x='churn', data=df)\n",
    "plt.title(\"Churn Distribution\")\n"
   ]
  }
 ],
 "metadata": {
  "language_info": {
   "name": "python"
  }
 },
 "nbformat": 4,
 "nbformat_minor": 2
}
